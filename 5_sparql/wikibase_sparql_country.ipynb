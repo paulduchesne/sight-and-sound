{
 "cells": [
  {
   "cell_type": "markdown",
   "metadata": {},
   "source": [
    "## Preferred years for 2012 Sight and Sound voters (grouped by country)"
   ]
  },
  {
   "cell_type": "code",
   "execution_count": 14,
   "metadata": {},
   "outputs": [
    {
     "data": {
      "application/vnd.jupyter.widget-view+json": {
       "model_id": "1e09232923b9477aac9d67031d4f9276",
       "version_major": 2,
       "version_minor": 0
      },
      "text/plain": [
       "Dropdown(options=(), value=None)"
      ]
     },
     "metadata": {},
     "output_type": "display_data"
    },
    {
     "data": {
      "application/vnd.jupyter.widget-view+json": {
       "model_id": "6a4e58af94f14d7b93c1a77a586cd8ac",
       "version_major": 2,
       "version_minor": 0
      },
      "text/plain": [
       "Dropdown(options=(), value=None)"
      ]
     },
     "metadata": {},
     "output_type": "display_data"
    },
    {
     "data": {
      "application/vnd.jupyter.widget-view+json": {
       "model_id": "8a3fcafbfffe47c1b676cf1f8129fb3d",
       "version_major": 2,
       "version_minor": 0
      },
      "text/plain": [
       "Button(description='run report', style=ButtonStyle())"
      ]
     },
     "metadata": {},
     "output_type": "display_data"
    },
    {
     "data": {
      "application/vnd.jupyter.widget-view+json": {
       "model_id": "ed562a26a0d9447ea8e7374591b59f04",
       "version_major": 2,
       "version_minor": 0
      },
      "text/plain": [
       "Output()"
      ]
     },
     "metadata": {},
     "output_type": "display_data"
    }
   ],
   "source": [
    "# okay so we need a table of country names and wb\n",
    "import ipywidgets, datetime, pandas, random\n",
    "import requests, pydash, altair\n",
    "from IPython.display import clear_output\n",
    "\n",
    "country_one = ipywidgets.Dropdown()\n",
    "country_two = ipywidgets.Dropdown()\n",
    "button = ipywidgets.Button(description=\"run report\")\n",
    "\n",
    "output = ipywidgets.Output()\n",
    "display(country_one, country_two, button, output)\n",
    "\n",
    "url = 'http://164.90.222.155:8989/bigdata/sparql'\n",
    "\n",
    "query = \"\"\"\n",
    "SELECT DISTINCT ?country ?countryLabel\n",
    "WHERE\n",
    "{\n",
    "  ?person wdt:P1 wd:Q2 . # people\n",
    "  ?person wdt:P2 ?country\n",
    "\n",
    "  SERVICE wikibase:label { bd:serviceParam wikibase:language \"en\". }\n",
    "}\n",
    "\"\"\"\n",
    "r = requests.get(url, params = {'format': 'json', 'query': query})\n",
    "data = r.json()\n",
    "\n",
    "data = pydash.get(data, 'results.bindings')\n",
    "data = [(pydash.get(x, 'countryLabel.value'),pydash.get(x, 'country.value')) for x in data]\n",
    "data = {x: y.split('/')[-1] for x,y in data}\n",
    "countries = sorted([x for x in data.keys()])\n",
    "\n",
    "country_one.options = countries\n",
    "country_one.value = random.choice(countries)\n",
    "\n",
    "country_two.options = countries\n",
    "country_two.value = random.choice(countries)\n",
    "\n",
    "def on_button_clicked(b):\n",
    "    with output:\n",
    "        if country_one.value != None and country_two.value != None:\n",
    " \n",
    "            clear_output()\n",
    "            print('🤔')\n",
    "            data_concat = pandas.DataFrame()\n",
    "\n",
    "            for x in [country_one.value, country_two.value]:\n",
    "\n",
    "                country_code = data[x]\n",
    "\n",
    "                query = \"\"\"\n",
    "\n",
    "                SELECT  ?year ?yearLabel\n",
    "                WHERE\n",
    "                {\n",
    "                  ?person wdt:P1 wd:Q2 . # people\n",
    "                  ?person wdt:P2 wd:\"\"\"+country_code+\"\"\" . # people of country x\n",
    "                  ?film wdt:P3 ?person . # films voted by people\n",
    "                  ?film wdt:P7 ?year . # year of the film voted by people from the country\n",
    "\n",
    "                  SERVICE wikibase:label { bd:serviceParam wikibase:language \"en\". }\n",
    "                }\"\"\"\n",
    "                r = requests.get(url, params = {'format': 'json', 'query': query})\n",
    "                data_string = r.json()\n",
    "\n",
    "\n",
    "                data_string = pydash.get(data_string, 'results.bindings')\n",
    "                data_string = [pydash.get(x, 'year.value') for x in data_string]\n",
    "                data_string = [x for x in data_string if x in [str(x) for x in range(1880,2020)]]\n",
    "#                 print(len(data_string))\n",
    "                index = pandas.Index(data_string)\n",
    "                thing = pandas.DataFrame(index.value_counts()).reset_index()\n",
    "                thing.columns = ['year', 'votes']\n",
    "\n",
    "                years = pandas.DataFrame([str(x) for x in range(1880,2012)], columns=['year'])\n",
    "                years = pandas.merge(years, thing, on='year', how='left')\n",
    "                years = years.fillna('0')\n",
    "                years['country'] = x\n",
    "\n",
    "                data_concat = pandas.concat([data_concat, years])\n",
    "\n",
    "            clear_output()\n",
    "\n",
    "            line = altair.Chart(data_concat).mark_line(interpolate='basis').encode(\n",
    "                                x='year:T',y='votes:Q',color='country:N')\n",
    "\n",
    "            display(altair.layer(line).properties(width=600, height=300))\n",
    "               \n",
    "        else:\n",
    "            print('please select a valid date range.')\n",
    "            \n",
    "button.on_click(on_button_clicked)\n"
   ]
  },
  {
   "cell_type": "code",
   "execution_count": null,
   "metadata": {},
   "outputs": [],
   "source": []
  }
 ],
 "metadata": {
  "kernelspec": {
   "display_name": "Python 3",
   "language": "python",
   "name": "python3"
  },
  "language_info": {
   "codemirror_mode": {
    "name": "ipython",
    "version": 3
   },
   "file_extension": ".py",
   "mimetype": "text/x-python",
   "name": "python",
   "nbconvert_exporter": "python",
   "pygments_lexer": "ipython3",
   "version": "3.8.2"
  }
 },
 "nbformat": 4,
 "nbformat_minor": 4
}
