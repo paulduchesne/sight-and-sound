{
 "cells": [
  {
   "cell_type": "code",
   "execution_count": 1,
   "metadata": {},
   "outputs": [
    {
     "data": {
      "application/vnd.jupyter.widget-view+json": {
       "model_id": "f09719d41bf842beb940352c66a11148",
       "version_major": 2,
       "version_minor": 0
      },
      "text/plain": [
       "Dropdown(options=(), value=None)"
      ]
     },
     "metadata": {},
     "output_type": "display_data"
    },
    {
     "data": {
      "application/vnd.jupyter.widget-view+json": {
       "model_id": "09ae35380d764170a2300d1f0d006850",
       "version_major": 2,
       "version_minor": 0
      },
      "text/plain": [
       "Dropdown(options=(), value=None)"
      ]
     },
     "metadata": {},
     "output_type": "display_data"
    },
    {
     "data": {
      "application/vnd.jupyter.widget-view+json": {
       "model_id": "7c09afacd5754dccb0ffd61f7867eddc",
       "version_major": 2,
       "version_minor": 0
      },
      "text/plain": [
       "Button(description='run report', style=ButtonStyle())"
      ]
     },
     "metadata": {},
     "output_type": "display_data"
    },
    {
     "data": {
      "application/vnd.jupyter.widget-view+json": {
       "model_id": "a1935ee7e51a4d59bc9231fde79d3353",
       "version_major": 2,
       "version_minor": 0
      },
      "text/plain": [
       "Output()"
      ]
     },
     "metadata": {},
     "output_type": "display_data"
    }
   ],
   "source": [
    "\n",
    "import ipywidgets, datetime, pandas, random\n",
    "import requests, pydash, altair\n",
    "from IPython.display import clear_output\n",
    "\n",
    "country_one = ipywidgets.Dropdown()\n",
    "country_two = ipywidgets.Dropdown()\n",
    "button = ipywidgets.Button(description=\"run report\")\n",
    "\n",
    "output = ipywidgets.Output()\n",
    "display(country_one, country_two, button, output)\n",
    "\n",
    "url = 'http://138.197.181.117:8989/bigdata/sparql'\n",
    "\n",
    "query = \"\"\"\n",
    "SELECT DISTINCT ?country ?countryLabel\n",
    "WHERE\n",
    "{\n",
    "  ?person wdt:P5 wd:Q2 . # people\n",
    "  ?person wdt:P9 ?country\n",
    "\n",
    "  SERVICE wikibase:label { bd:serviceParam wikibase:language \"en\". }\n",
    "}\n",
    "\"\"\"\n",
    "r = requests.get(url, params = {'format': 'json', 'query': query})\n",
    "data = r.json()\n",
    "\n",
    "data = pydash.get(data, 'results.bindings')\n",
    "data = [(pydash.get(x, 'countryLabel.value'),pydash.get(x, 'country.value')) for x in data]\n",
    "data = {x: y.split('/')[-1] for x,y in data}\n",
    "countries = sorted([x for x in data.keys()])\n",
    "\n",
    "country_one.options = countries\n",
    "country_one.value = random.choice(countries)\n",
    "country_two.options = countries\n",
    "country_two.value = random.choice(countries)\n",
    "\n",
    "def on_button_clicked(b):\n",
    "    with output:\n",
    "        if country_one.value != None and country_two.value != None:\n",
    " \n",
    "            clear_output()\n",
    "            print('🤔')\n",
    "            data_concat = pandas.DataFrame()\n",
    "\n",
    "            for x in [country_one.value, country_two.value]:\n",
    "\n",
    "                country_code = data[x]\n",
    "\n",
    "                query = \"\"\"\n",
    "\n",
    "                SELECT ?year \n",
    "                WHERE\n",
    "                {\n",
    "                  ?person wdt:P5 wd:Q2 . # people\n",
    "                  ?person wdt:P9 wd:\"\"\"+country_code+\"\"\" . # people of country x\n",
    "                  ?film wdt:P6 ?person . # films voted by people\n",
    "                  ?film wdt:P1 ?year . # year of the film voted by people from the country\n",
    "\n",
    "                  SERVICE wikibase:label { bd:serviceParam wikibase:language \"en\". }\n",
    "                }\"\"\"\n",
    "                r = requests.get(url, params = {'format': 'json', 'query': query})\n",
    "                data_string = r.json()\n",
    "\n",
    "                data_string = pydash.get(data_string, 'results.bindings')              \n",
    "                data_string = [pydash.get(x, 'year.value') for x in data_string]\n",
    "                data_string = [x.split('.')[0] for x in data_string]             \n",
    "                data_string = [x for x in data_string if x in [str(x) for x in range(1880,2020)]]\n",
    "                index = pandas.Index(data_string)\n",
    "                collapsed = pandas.DataFrame(index.value_counts()).reset_index()\n",
    "                collapsed.columns = ['year', 'votes']\n",
    "\n",
    "                years = pandas.DataFrame([str(x) for x in range(1880,2012)], columns=['year'])\n",
    "                years = pandas.merge(years, collapsed, on='year', how='left')\n",
    "                years = years.fillna('0')\n",
    "                years['country'] = x\n",
    "\n",
    "                data_concat = pandas.concat([data_concat, years])\n",
    "\n",
    "            clear_output()\n",
    "            line = altair.Chart(data_concat).mark_line(interpolate='basis').encode(\n",
    "                                x='year:T',y='votes:Q',color='country:N')\n",
    "            display(altair.layer(line).properties(width=600, height=300))\n",
    "        else:\n",
    "            print('please select a valid country.')\n",
    "            \n",
    "button.on_click(on_button_clicked)\n"
   ]
  }
 ],
 "metadata": {
  "kernelspec": {
   "display_name": "Python 3",
   "language": "python",
   "name": "python3"
  },
  "language_info": {
   "codemirror_mode": {
    "name": "ipython",
    "version": 3
   },
   "file_extension": ".py",
   "mimetype": "text/x-python",
   "name": "python",
   "nbconvert_exporter": "python",
   "pygments_lexer": "ipython3",
   "version": "3.8.2"
  }
 },
 "nbformat": 4,
 "nbformat_minor": 4
}
